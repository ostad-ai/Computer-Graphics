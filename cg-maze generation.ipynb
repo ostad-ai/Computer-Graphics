{
 "cells": [
  {
   "cell_type": "markdown",
   "id": "728efa2e",
   "metadata": {},
   "source": [
    "# Computer Graphics\n",
    "### Maze generation\n",
    "\n",
    "A **maze** is a complex network of paths (or passages), designed as a **puzzle** to be navigated from a starting point to a goal (exit). \n",
    "- Mazes often include **dead ends**, **loops**, and **forks** to confuse the solver.\n",
    "\n",
    "<hr>\n",
    "\n",
    "There are differetn types of maze. One type is the perfect maze with these properties:\n",
    "- No loops (or cycles).\n",
    "- There is exactly one path between any two points.\n",
    "- No inaccessible areas.\n",
    "\n",
    "One way to generate a maze (a perfect maze) is to use the **randomized depth-first search**. We have already talked about **depth-first search** (**DFS**) in repositories: **Graph-Analysis** and **Computer-Science**.\n",
    "<hr>\n",
    "\n",
    "In the following, we implement a perfect maze using a **grid-based** representation where:\n",
    "- 1 represents a wall.\n",
    "- 0 represents a path (an edge).\n",
    "\n",
    "Then, the maze is generated using a randomized DFS algorithm.\n",
    "<hr>\n",
    "\n",
    "https://github.com/ostad-ai/Computer-Graphics\n",
    "<br>Explanation in **English**:\n",
    "    https://www.pinterest.com/HamedShahHosseini/Computer-Graphics"
   ]
  },
  {
   "cell_type": "code",
   "execution_count": 1,
   "id": "15b7c812",
   "metadata": {},
   "outputs": [],
   "source": [
    "# Import required modules\n",
    "from matplotlib import pyplot as plt\n",
    "import numpy as np\n",
    "import random"
   ]
  },
  {
   "cell_type": "code",
   "execution_count": 2,
   "id": "6ef9529f",
   "metadata": {},
   "outputs": [],
   "source": [
    "# Define Grid size\n",
    "GRID_WIDTH = 31  # Must be odd\n",
    "GRID_HEIGHT = 23  # Must be odd\n",
    "\n",
    "# Define the class Maze\n",
    "class Maze:\n",
    "    \"\"\"\n",
    "    Generate a maze using randomized Depth-First Search algorithm\n",
    "    Creats a 2D numpy array as grid where:\n",
    "        0 represents a path (an edge: open space)\n",
    "        1 represents a wall (no edge)\n",
    "    \"\"\"\n",
    "    def __init__(self):\n",
    "        self.grid = None\n",
    "        self.start = (1, 1) # Start point\n",
    "        self.end = (GRID_HEIGHT-2, GRID_WIDTH-2) # End point\n",
    "        self.generation_complete = False\n",
    "        self.generate_maze()\n",
    "    \n",
    "    def generate_maze(self):\n",
    "        \"\"\"Generate a perfect maze using DFS.\"\"\"\n",
    "        # Initialize grid (1 = wall, 0 = path)\n",
    "        self.grid = np.ones((GRID_HEIGHT, GRID_WIDTH), dtype=int)\n",
    "        \n",
    "        # Start with a grid of walls, create potential path cells\n",
    "        for i in range(1, GRID_HEIGHT-1):\n",
    "            for j in range(1, GRID_WIDTH-1):\n",
    "                if i % 2 == 1 and j % 2 == 1:\n",
    "                    self.grid[i, j] = 0\n",
    "        \n",
    "        # DFS maze generation\n",
    "        start_y,start_x=self.start\n",
    "        stack = [(start_y,start_x)]\n",
    "        visited = set([(start_y,start_x)])\n",
    "        \n",
    "        while stack:\n",
    "            current_y, current_x = stack[-1] # Peek at the top without popping\n",
    "            \n",
    "            # Get unvisited neighbors (2 steps away)\n",
    "            neighbors = []\n",
    "            for dy, dx in [(0, 2), (2, 0), (0, -2), (-2, 0)]:\n",
    "                ny, nx = current_y + dy, current_x + dx\n",
    "                if (1 <= ny < GRID_HEIGHT-1 and 1 <= nx < GRID_WIDTH-1 and \n",
    "                    (ny, nx) not in visited):\n",
    "                    neighbors.append((ny, nx, dy//2, dx//2))\n",
    "            \n",
    "            if neighbors:\n",
    "                # Randomly select a neighbor\n",
    "                next_y, next_x, wall_dy, wall_dx = random.choice(neighbors)\n",
    "                \n",
    "                # Carve path by removing wall between current and next\n",
    "                self.grid[current_y + wall_dy, current_x + wall_dx] = 0    \n",
    "                \n",
    "                # Mark the neighbor as visited and add to stack\n",
    "                visited.add((next_y, next_x))\n",
    "                stack.append((next_y, next_x))\n",
    "            else:\n",
    "                # Backtrack if no unvisited neighbors\n",
    "                stack.pop()\n",
    "\n",
    "        # Ensure start and end are open\n",
    "        # Set entrance and exit\n",
    "        self.grid[self.start[0], self.start[1]-1] = 0  # Entrance\n",
    "        self.grid[GRID_HEIGHT-2, GRID_WIDTH-1] = 0  # Exit"
   ]
  },
  {
   "cell_type": "code",
   "execution_count": 9,
   "id": "2ac5ec04",
   "metadata": {},
   "outputs": [],
   "source": [
    "# Create the object of class Maze and generate the maze in grid\n",
    "maze=Maze()"
   ]
  },
  {
   "cell_type": "code",
   "execution_count": 10,
   "id": "1bc77f8c",
   "metadata": {},
   "outputs": [
    {
     "data": {
      "image/png": "[encoded data removed]",
      "text/plain": [
       "<Figure size 640x480 with 1 Axes>"
      ]
     },
     "metadata": {},
     "output_type": "display_data"
    }
   ],
   "source": [
    "# Show the grid which is a 2D array of 0's ans 1's\n",
    "plt.title('A Perfect maze generated by a randomized depth-first search')\n",
    "plt.imshow(maze.grid,cmap=plt.cm.autumn)\n",
    "plt.show()"
   ]
  },
  {
   "cell_type": "code",
   "execution_count": null,
   "id": "32d9a271",
   "metadata": {},
   "outputs": [],
   "source": []
  }
 ],
 "metadata": {
  "kernelspec": {
   "display_name": "Python 3 (ipykernel)",
   "language": "python",
   "name": "python3"
  },
  "language_info": {
   "codemirror_mode": {
    "name": "ipython",
    "version": 3
   },
   "file_extension": ".py",
   "mimetype": "text/x-python",
   "name": "python",
   "nbconvert_exporter": "python",
   "pygments_lexer": "ipython3",
   "version": "3.11.1"
  }
 },
 "nbformat": 4,
 "nbformat_minor": 5
}
