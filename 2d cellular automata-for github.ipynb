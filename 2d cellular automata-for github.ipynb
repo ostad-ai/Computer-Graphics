{
 "cells": [
  {
   "cell_type": "markdown",
   "id": "f969e83d",
   "metadata": {},
   "source": [
    "# Two-dimensional (2D) cellular automaton\n",
    "This is an extension of the elementary CA. Here, we have cells in a two-dimensional grid. Each cell has\n",
    "- **state:** which can be zero or one.\n",
    "- **neighborhood:** famous neighborhoods are the **Moore** (with eight neighbors) and the **von Neumann** (with four neighbors).\n",
    "\n",
    "Again, we have a **set of rules** that are applied to the current cell and its neighborhood to update the state of the cell.\n",
    "\n",
    "**Hint:** A well-known 2D CA is the **Conway's game of life**.\n",
    "<br> Here, we use the **von Neumann** neighborhood to create some interesting patterns.\n",
    "\n",
    "###### by Hamed Shah-Hosseini\n",
    "Explanation at: https://www.pinterest.com/HamedShahHosseini/\n",
    "<br>https://github.com/ostad-ai/Computer-Graphics"
   ]
  },
  {
   "cell_type": "code",
   "execution_count": 1,
   "id": "9840e83d",
   "metadata": {},
   "outputs": [],
   "source": [
    "from matplotlib import pyplot as plt\n",
    "import numpy as np"
   ]
  },
  {
   "cell_type": "code",
   "execution_count": 2,
   "id": "f9dac8c7",
   "metadata": {},
   "outputs": [],
   "source": [
    "# the next generation of cells\n",
    "def update(neighborhood='neumann', no_alive_neighbors=[1]):\n",
    "    global nextCells,cells\n",
    "    if neighborhood=='neumann': #von Neumann\n",
    "        Nset=[(-1,0),(1,0),(0,-1),(0,1)] \n",
    "    else: #extended von Neumann \n",
    "        Nset=[(-2,0),(-1,0),(1,0),(0,-1),(0,1),(0,2),(2,0),(0,-2)]        \n",
    "    for x in range(gridW):\n",
    "        for y in range(gridH):\n",
    "            noNeighbors=0\n",
    "            for x2,y2 in Nset: \n",
    "                    xn=x+x2; yn=y+y2\n",
    "                    if (0<=xn<gridW) and (0<=yn<gridH):\n",
    "                        if cells[yn,xn]==0:\n",
    "                            noNeighbors+=1\n",
    "            if cells[y,x]==0:\n",
    "                # alive stays alive\n",
    "                nextCells[y,x]=0 \n",
    "            else:\n",
    "                #dead becomes alive having no. of alive neighbors \n",
    "                if noNeighbors in no_alive_neighbors: \n",
    "                    nextCells[y,x]=0               \n",
    "    cells=nextCells.copy()           "
   ]
  },
  {
   "cell_type": "code",
   "execution_count": 3,
   "id": "d0200ca9",
   "metadata": {},
   "outputs": [
    {
     "data": {
      "image/png": "[encoded data removed]",
      "text/plain": [
       "<Figure size 1000x500 with 2 Axes>"
      ]
     },
     "metadata": {},
     "output_type": "display_data"
    }
   ],
   "source": [
    "gridW, gridH = 100,100\n",
    "#holds the cells of cellular automatun\n",
    "cells=255*np.ones((gridH,gridW),dtype=np.uint8) \n",
    "#initialize grid cells with one dot in the middle:\n",
    "cells[gridH//2,gridW//2]=0; nextCells=cells.copy()\n",
    "for _ in range(45): update()\n",
    "cells1=cells.copy()\n",
    "#---another one\n",
    "cells=255*np.ones((gridH,gridW),dtype=np.uint8) \n",
    "cells[gridH//2,gridW//2]=0; nextCells=cells.copy()\n",
    "for _ in range(45): update(no_alive_neighbors=[1,3])\n",
    "plt.figure(figsize=(10,5))\n",
    "plt.subplot(121);plt.axis('off'); plt.imshow(cells1,cmap=plt.cm.gray)\n",
    "plt.subplot(122);plt.axis('off'); plt.imshow(cells,cmap=plt.cm.gray)\n",
    "plt.show()"
   ]
  },
  {
   "cell_type": "code",
   "execution_count": null,
   "id": "e75dec1d",
   "metadata": {},
   "outputs": [],
   "source": []
  }
 ],
 "metadata": {
  "kernelspec": {
   "display_name": "Python 3 (ipykernel)",
   "language": "python",
   "name": "python3"
  },
  "language_info": {
   "codemirror_mode": {
    "name": "ipython",
    "version": 3
   },
   "file_extension": ".py",
   "mimetype": "text/x-python",
   "name": "python",
   "nbconvert_exporter": "python",
   "pygments_lexer": "ipython3",
   "version": "3.11.1"
  }
 },
 "nbformat": 4,
 "nbformat_minor": 5
}
